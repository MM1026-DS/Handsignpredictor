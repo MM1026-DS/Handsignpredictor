{
  "nbformat": 4,
  "nbformat_minor": 0,
  "metadata": {
    "colab": {
      "name": "Handsign.ipynb",
      "provenance": [],
      "toc_visible": true,
      "authorship_tag": "ABX9TyM023ddgehdtLI3z4c3Q+ll",
      "include_colab_link": true
    },
    "kernelspec": {
      "name": "python3",
      "display_name": "Python 3"
    },
    "accelerator": "GPU"
  },
  "cells": [
    {
      "cell_type": "markdown",
      "metadata": {
        "id": "view-in-github",
        "colab_type": "text"
      },
      "source": [
        "<a href=\"https://colab.research.google.com/github/MM1026-DS/Handsignpredictor/blob/main/Handsign.ipynb\" target=\"_parent\"><img src=\"https://colab.research.google.com/assets/colab-badge.svg\" alt=\"Open In Colab\"/></a>"
      ]
    },
    {
      "cell_type": "code",
      "metadata": {
        "id": "9yjjf1GOaVb2"
      },
      "source": [
        "import numpy as np\n",
        "import tensorflow as tf\n",
        "from tensorflow.python.framework import ops"
      ],
      "execution_count": null,
      "outputs": []
    },
    {
      "cell_type": "code",
      "metadata": {
        "id": "LGZfiPCpCN5V"
      },
      "source": [
        "# tf.Session()"
      ],
      "execution_count": null,
      "outputs": []
    },
    {
      "cell_type": "code",
      "metadata": {
        "id": "PYBTUmmxwc_S"
      },
      "source": [
        "# W  =  tf.Variable(0,dtype = tf.float32)\n",
        "# loss = lambda:(W**2-10*W+25)\n",
        "# opt = tf.keras.optimizers.SGD(learning_rate = 0.1)\n",
        "# step_count = opt.minimize(loss,[W]).numpy()\n",
        "# step_count"
      ],
      "execution_count": null,
      "outputs": []
    },
    {
      "cell_type": "code",
      "metadata": {
        "id": "Wa_BmW7G0mbu"
      },
      "source": [
        "# pt = tf.keras.optimizers.SGD(learning_rate=0.1, momentum=0.9)\n",
        "# var = tf.Variable(1.0)\n",
        "# val0 = var.value()\n",
        "# loss = lambda: (var ** 2)/2.0         # d(loss)/d(var1) = var1\n",
        "# # First step is `- learning_rate * grad`\n",
        "# step_count = opt.minimize(loss, [var]).numpy()\n",
        "# val1 = var.value()\n",
        "# (val0 - val1).numpy()\n",
        "\n",
        "# # On later steps, step-size increases because of momentum\n",
        "# step_count = opt.minimize(loss, [var]).numpy()\n",
        "# val2 = var.value()\n",
        "# (val1 - val2).numpy()"
      ],
      "execution_count": null,
      "outputs": []
    },
    {
      "cell_type": "code",
      "metadata": {
        "id": "Jy7VCZ01ipv7"
      },
      "source": [
        "# W = tf.Variable(0,dtype=tf.float64)\n",
        "# # loss =  tf.add(W**2,tf.multiply(-10,W),25)\n",
        "# loss = lambda: 2*W*W-10*W+25\n",
        "# # print(loss)\n",
        "# opt = tf.keras.optimizers.SGD(learning_rate=0.1)\n",
        "# opt_min = opt.minimize(loss,var_list = [W])\n",
        "\n",
        "\n",
        "# # train_min = train.minimize(loss,var_list =[W])\n",
        "# # # # init  = tf.global\n",
        "# session  =  tf.Session()\n",
        "# session.run(opt_min)\n",
        "# # # # session.run(init)\n",
        "# # train_min.run()\n"
      ],
      "execution_count": null,
      "outputs": []
    },
    {
      "cell_type": "code",
      "metadata": {
        "id": "1L15FRPhb49_"
      },
      "source": [
        ""
      ],
      "execution_count": null,
      "outputs": []
    },
    {
      "cell_type": "code",
      "metadata": {
        "id": "ljR6V_tWihW3"
      },
      "source": [
        "# opt = tf.keras.optimizers.SGD(learning_rate=0.1)\n",
        "# var = tf.Variable(1.0)\n",
        "# loss = lambda: (var ** 2)/2.0         # d(loss)/d(var1) = var1\n",
        "# step_count = opt.minimize(loss, [var]).numpy()\n",
        "# # Step is `- learning_rate * grad`\n",
        "# var.numpy()"
      ],
      "execution_count": null,
      "outputs": []
    },
    {
      "cell_type": "code",
      "metadata": {
        "id": "xeKVVTG1ZNaV"
      },
      "source": [
        "# opt  = tf.keras.optimizers.SGD(learning_rate=0.1)\n",
        "# W = tf.Variable(0,dtype = tf.float32)\n",
        "# loss = lambda:W**2-10*W+25\n",
        "# step_count = opt.minimize(loss,[W]).numpy()\n",
        "# W.numpy()"
      ],
      "execution_count": null,
      "outputs": []
    },
    {
      "cell_type": "code",
      "metadata": {
        "id": "BZNjNIt2fXzX"
      },
      "source": [
        "# import numpy as np\n",
        "# import h5py\n",
        "\n",
        "# with h5py.File(\"train_signs.h5\",\"r\") as f:\n",
        "#  print(f)"
      ],
      "execution_count": null,
      "outputs": []
    },
    {
      "cell_type": "code",
      "metadata": {
        "id": "tJMLOfd4hOMO"
      },
      "source": [
        "# train_dataset = h5py.File('train_signs.h5', \"r\")\n",
        "# train_set_x_orig = np.array(train_dataset[\"train_set_x\"][:]) # your train set features\n",
        "# train_set_y_orig = np.array(train_dataset[\"train_set_y\"][:])\n"
      ],
      "execution_count": null,
      "outputs": []
    },
    {
      "cell_type": "code",
      "metadata": {
        "id": "O4a1zCeWnHkS"
      },
      "source": [
        ""
      ],
      "execution_count": null,
      "outputs": []
    },
    {
      "cell_type": "markdown",
      "metadata": {
        "id": "hQdfa1nbnIn0"
      },
      "source": [
        "## tensor flow start try to calculating loss function\n",
        "\n"
      ]
    },
    {
      "cell_type": "code",
      "metadata": {
        "id": "Cs-XyPjEjx-w"
      },
      "source": [
        "# y_hat = tf.constant(36, name='y_hat')            # Define y_hat constant. Set to 36.\n",
        "# y = tf.constant(39, name='y')                    # Define y. Set to 39\n",
        "\n",
        "# loss = tf.Variable((y - y_hat)**2, name='loss')  # Create a variable for the loss\n",
        "\n",
        "# tf.compat.v1.disable_eager_execution()\n",
        "\n",
        "# init = tf.compat.v1.global_variables_initializer()\n",
        "\n",
        "# with tf.compat.v1.Session() as sess:\n",
        "#     sess.run(init)\n",
        "#     print(sess.run(loss))    "
      ],
      "execution_count": null,
      "outputs": []
    },
    {
      "cell_type": "markdown",
      "metadata": {
        "id": "4sTFHdBB1HG_"
      },
      "source": [
        "## First tensor flow framework neural network\n"
      ]
    },
    {
      "cell_type": "code",
      "metadata": {
        "id": "8lHRoaMh1OWa"
      },
      "source": [
        "import math\n",
        "import numpy as np\n",
        "import h5py\n",
        "import matplotlib.pyplot as plt\n",
        "import tensorflow as tf\n",
        "from tensorflow.python.framework import ops\n",
        "\n",
        "%matplotlib inline\n",
        "np.random.seed(1)"
      ],
      "execution_count": null,
      "outputs": []
    },
    {
      "cell_type": "code",
      "metadata": {
        "id": "2nZh2YVs1-kc"
      },
      "source": [
        "def load_dataset():\n",
        "  train_dataset =  h5py.File(\"train_signs.h5\",\"r\")\n",
        "  train_dataset_x_orig = np.array(train_dataset[\"train_set_x\"][:])\n",
        "  train_dataset_y_orig = np.array(train_dataset[\"train_set_y\"][:])\n",
        "\n",
        "  test_dataset = h5py.File(\"test_signs.h5\",\"r\")\n",
        "  test_dataset_x_orig = np.array(test_dataset[\"test_set_x\"][:])\n",
        "  test_dataset_y_orig = np.array(test_dataset[\"test_set_y\"][:])\n",
        "\n",
        "  classes = np.array(test_dataset[\"list_classes\"][:]) # the list of classes\n",
        "    \n",
        "  train_dataset_y_orig = train_dataset_y_orig.reshape((1, train_dataset_y_orig.shape[0]))\n",
        "  test_dataset_y_orig = test_dataset_y_orig.reshape((1, test_dataset_y_orig.shape[0]))\n",
        "    \n",
        "  return train_dataset_x_orig, train_dataset_y_orig, test_dataset_x_orig, test_dataset_y_orig, classes"
      ],
      "execution_count": null,
      "outputs": []
    },
    {
      "cell_type": "code",
      "metadata": {
        "id": "O_n2wqNc7uJW"
      },
      "source": [
        "train_dataset_x_orig,train_dataset_y_orig,test_dataset_x_orig,test_dataset_y_orig,classes = load_dataset()"
      ],
      "execution_count": null,
      "outputs": []
    },
    {
      "cell_type": "code",
      "metadata": {
        "id": "wBgQOOPl-Py2",
        "outputId": "04f09b18-248c-44ea-ceb6-d9e8e44bb669",
        "colab": {
          "base_uri": "https://localhost:8080/",
          "height": 285
        }
      },
      "source": [
        "plt.imshow(train_dataset_x_orig[5])\n",
        "print(\"y = \" + str(np.squeeze(train_dataset_y_orig[:,5])))"
      ],
      "execution_count": null,
      "outputs": [
        {
          "output_type": "stream",
          "text": [
            "y = 4\n"
          ],
          "name": "stdout"
        },
        {
          "output_type": "display_data",
          "data": {
            "image/png": "[encoded data removed]",
            "text/plain": [
              "<Figure size 432x288 with 1 Axes>"
            ]
          },
          "metadata": {
            "tags": [],
            "needs_background": "light"
          }
        }
      ]
    },
    {
      "cell_type": "code",
      "metadata": {
        "id": "7oLHtBxWAMB1"
      },
      "source": [
        "y_train =  np.eye(6)[train_dataset_y_orig.reshape(-1)].T\n",
        "y_test = np.eye(6)[test_dataset_y_orig.reshape(-1)].T\n"
      ],
      "execution_count": null,
      "outputs": []
    },
    {
      "cell_type": "code",
      "metadata": {
        "id": "KAuH17wlCvx7"
      },
      "source": [
        "X_train = train_dataset_x_orig.reshape(train_dataset_x_orig.shape[0],-1).T\n",
        "X_test = test_dataset_x_orig.reshape(test_dataset_x_orig.shape[0],-1).T\n",
        "\n",
        "# Normalization  \n",
        "X_train =  X_train/255\n",
        "X_test =  X_test/255"
      ],
      "execution_count": null,
      "outputs": []
    },
    {
      "cell_type": "code",
      "metadata": {
        "id": "_DLgr7izIn0c"
      },
      "source": [
        "# Creating placeholder for x,y\n",
        "tf.compat.v1.disable_eager_execution()\n",
        "X = tf.compat.v1.placeholder(tf.float32,[12288,None],name = \"X\")\n",
        "y = tf.compat.v1.placeholder(tf.float32,[6,None],name = \"y\")\n"
      ],
      "execution_count": null,
      "outputs": []
    },
    {
      "cell_type": "code",
      "metadata": {
        "id": "1wMcC5H5QV5-"
      },
      "source": [
        "def initialize_parameters():\n",
        "  \n",
        "  initializer_W = tf.initializers.GlorotUniform()\n",
        "  initializer_b = tf.zeros_initializer()\n",
        "  W1 = tf.Variable(initializer_W(shape=(25,12288)))\n",
        "  b1 = tf.Variable(initializer_b(shape=(25,1)))\n",
        "  W2 = tf.Variable(initializer_W(shape=(12,25)))\n",
        "  b2 = tf.Variable(initializer_b(shape=(12,1)))\n",
        "  W3 = tf.Variable(initializer_W(shape=(6,12)))\n",
        "  b3 = tf.Variable(initializer_b(shape=(6,1)))\n",
        "\n",
        "  parameters = {\"W1\":W1,\n",
        "                \"b1\": b1,\n",
        "                \"W2\": W2,\n",
        "                \"b2\": b2,\n",
        "                \"W3\": W3,\n",
        "                \"b3\": b3}\n",
        "  return parameters               \n",
        "\n"
      ],
      "execution_count": null,
      "outputs": []
    },
    {
      "cell_type": "markdown",
      "metadata": {
        "id": "QVp6suyNj7bH"
      },
      "source": [
        "## Forward propogation in tensorflow\n"
      ]
    },
    {
      "cell_type": "code",
      "metadata": {
        "id": "FBCt1FaijACS"
      },
      "source": [
        "def forward_propogation(X,parameters):\n",
        "  W1 = parameters[\"W1\"]\n",
        "  b1 = parameters[\"b1\"]\n",
        "  W2 = parameters[\"W2\"]\n",
        "  b2 = parameters[\"b2\"]\n",
        "  W3 = parameters[\"W3\"]\n",
        "  b3 = parameters[\"b3\"]\n",
        "\n",
        "  Z1 = tf.add(tf.matmul(W1,X),b1)\n",
        "  A1 = tf.nn.relu(Z1)\n",
        "  Z2 = tf.add(tf.matmul(W2,A1),b2)\n",
        "  A2 = tf.nn.relu(Z2)\n",
        "  Z3 = tf.add(tf.matmul(W3,A2),b3)\n",
        "\n",
        "  return Z3\n",
        "   "
      ],
      "execution_count": null,
      "outputs": []
    },
    {
      "cell_type": "code",
      "metadata": {
        "id": "4UrTV0wXqkmA",
        "outputId": "44995260-e60f-4859-c734-e8f2c46ed0db",
        "colab": {
          "base_uri": "https://localhost:8080/",
          "height": 34
        }
      },
      "source": [
        "parameters = initialize_parameters()\n",
        "Z3 = forward_propogation(X, parameters)\n",
        "print(\"Z3 = \" + str(Z3))"
      ],
      "execution_count": null,
      "outputs": [
        {
          "output_type": "stream",
          "text": [
            "Z3 = Tensor(\"Add_2:0\", shape=(6, None), dtype=float32)\n"
          ],
          "name": "stdout"
        }
      ]
    },
    {
      "cell_type": "code",
      "metadata": {
        "id": "Wx-BZF1AqwSe"
      },
      "source": [
        "def compute_cost(Z3,y):\n",
        "  logits = tf.transpose(Z3)\n",
        "  labels = tf.transpose(y)\n",
        "\n",
        "  cost = tf.reduce_mean(tf.nn.softmax_cross_entropy_with_logits(logits=logits,labels=labels))\n",
        "\n",
        "  return cost"
      ],
      "execution_count": null,
      "outputs": []
    },
    {
      "cell_type": "code",
      "metadata": {
        "id": "GAamr2Wv6Htv",
        "outputId": "7db93fb0-72ec-4f6c-c5f8-e58cfa7540b9",
        "colab": {
          "base_uri": "https://localhost:8080/",
          "height": 34
        }
      },
      "source": [
        "parameters = initialize_parameters()\n",
        "Z3 = forward_propogation(X, parameters)\n",
        "cost = compute_cost(Z3, y)\n",
        "print(\"cost = \" + str(cost))"
      ],
      "execution_count": null,
      "outputs": [
        {
          "output_type": "stream",
          "text": [
            "cost = Tensor(\"Mean:0\", shape=(), dtype=float32)\n"
          ],
          "name": "stdout"
        }
      ]
    },
    {
      "cell_type": "code",
      "metadata": {
        "id": "8xN5SOHL6fVI"
      },
      "source": [
        "def random_mini_batches(X, y, mini_batch_size = 64, seed = 0):\n",
        "    \"\"\"\n",
        "    Creates a list of random minibatches from (X, Y)\n",
        "    \n",
        "    Arguments:\n",
        "    X -- input data, of shape (input size, number of examples)\n",
        "    Y -- true \"label\" vector (containing 0 if cat, 1 if non-cat), of shape (1, number of examples)\n",
        "    mini_batch_size - size of the mini-batches, integer\n",
        "    seed -- this is only for the purpose of grading, so that you're \"random minibatches are the same as ours.\n",
        "    \n",
        "    Returns:\n",
        "    mini_batches -- list of synchronous (mini_batch_X, mini_batch_Y)\n",
        "    \"\"\"\n",
        "    \n",
        "    m = X.shape[1]                  # number of training examples\n",
        "    mini_batches = []\n",
        "    np.random.seed(seed)\n",
        "    \n",
        "    # Step 1: Shuffle (X, Y)\n",
        "    permutation = list(np.random.permutation(m))\n",
        "    shuffled_X = X[:, permutation]\n",
        "    shuffled_Y = y[:, permutation].reshape((y.shape[0],m))\n",
        "\n",
        "    # Step 2: Partition (shuffled_X, shuffled_Y). Minus the end case.\n",
        "    num_complete_minibatches = math.floor(m/mini_batch_size) # number of mini batches of size mini_batch_size in your partitionning\n",
        "    for k in range(0, num_complete_minibatches):\n",
        "        mini_batch_X = shuffled_X[:, k * mini_batch_size : k * mini_batch_size + mini_batch_size]\n",
        "        mini_batch_Y = shuffled_Y[:, k * mini_batch_size : k * mini_batch_size + mini_batch_size]\n",
        "        mini_batch = (mini_batch_X, mini_batch_Y)\n",
        "        mini_batches.append(mini_batch)\n",
        "    \n",
        "    # Handling the end case (last mini-batch < mini_batch_size)\n",
        "    if m % mini_batch_size != 0:\n",
        "        mini_batch_X = shuffled_X[:, num_complete_minibatches * mini_batch_size : m]\n",
        "        mini_batch_Y = shuffled_Y[:, num_complete_minibatches * mini_batch_size : m]\n",
        "        mini_batch = (mini_batch_X, mini_batch_Y)\n",
        "        mini_batches.append(mini_batch)\n",
        "    \n",
        "    return mini_batches"
      ],
      "execution_count": null,
      "outputs": []
    },
    {
      "cell_type": "code",
      "metadata": {
        "id": "b8d-Clza8XJj"
      },
      "source": [
        "def model(X_train,y_train,X_test,y_test,learning_rate = 0.0001,num_epochs = 1500,minibatch_size = 32,print_cost = True):\n",
        "  ops.reset_default_graph()\n",
        "  (n_x,m) = X_train.shape\n",
        "  n_y = y_train.shape[0]\n",
        "  costs = []\n",
        "  seed = 3\n",
        "  X = tf.compat.v1.placeholder(tf.float32,[12288,None],name = \"X\")\n",
        "  y = tf.compat.v1.placeholder(tf.float32,[6,None],name = \"y\")\n",
        "  parameters = initialize_parameters()\n",
        "  Z3 = forward_propogation(X,parameters)\n",
        "  cost = compute_cost(Z3,y)\n",
        "  optimizer = tf.compat.v1.train.AdamOptimizer(learning_rate = learning_rate,beta1=0.9,beta2=0.999).minimize(cost)\n",
        "  init = tf.compat.v1.global_variables_initializer()\n",
        "  with tf.compat.v1.Session() as sess:\n",
        "    sess.run(init)\n",
        "    for epoch in range(num_epochs):\n",
        "      epoch_cost = 0.                       # Defines a cost related to an epoch\n",
        "      num_minibatches = int(m / minibatch_size) # number of minibatches of size minibatch_size in the train set\n",
        "      seed = seed + 1\n",
        "      minibatches = random_mini_batches(X_train, y_train, minibatch_size, seed)\n",
        "      for minibatch in minibatches:\n",
        "        (minibatch_X, minibatch_Y) = minibatch\n",
        "        _ , minibatch_cost = sess.run([optimizer, cost], feed_dict={X: minibatch_X, y: minibatch_Y})\n",
        "        epoch_cost += minibatch_cost / minibatch_size\n",
        "      if print_cost == True and epoch % 100 == 0:\n",
        "          print (\"Cost after epoch %i: %f\" % (epoch, epoch_cost))\n",
        "      if print_cost == True and epoch % 5 == 0:\n",
        "         costs.append(epoch_cost) \n",
        "    plt.plot(np.squeeze(costs))\n",
        "    plt.ylabel('cost')\n",
        "    plt.xlabel('iterations (per fives)')\n",
        "    plt.title(\"Learning rate =\" + str(learning_rate))\n",
        "  \n",
        "        # lets save the parameters in a variable\n",
        "    parameters = sess.run(parameters)\n",
        "    print (\"Parameters have been trained!\")\n",
        "\n",
        "        # Calculate the correct predictions\n",
        "    correct_prediction = tf.equal(tf.argmax(Z3), tf.argmax(y))\n",
        "\n",
        "        # Calculate accuracy on the test set\n",
        "    accuracy = tf.reduce_mean(tf.cast(correct_prediction, \"float\"))\n",
        "    print (\"Train Accuracy:\", accuracy.eval({X: X_train, y: y_train}))\n",
        "    print (\"Test Accuracy:\", accuracy.eval({X: X_test, y: y_test}))\n",
        "    return parameters  \n",
        "\n"
      ],
      "execution_count": null,
      "outputs": []
    },
    {
      "cell_type": "code",
      "metadata": {
        "id": "7JcqvvocDi3L",
        "outputId": "a23c21bb-50a0-46ed-8aff-3588f351906c",
        "colab": {
          "base_uri": "https://localhost:8080/",
          "height": 1000
        }
      },
      "source": [
        "model(X_train, y_train, X_test, y_test)"
      ],
      "execution_count": null,
      "outputs": [
        {
          "output_type": "stream",
          "text": [
            "Cost after epoch 0: 1.934037\n",
            "Cost after epoch 100: 0.772310\n",
            "Cost after epoch 200: 0.453221\n",
            "Cost after epoch 300: 0.275536\n",
            "Cost after epoch 400: 0.171867\n",
            "Cost after epoch 500: 0.100708\n",
            "Cost after epoch 600: 0.063341\n",
            "Cost after epoch 700: 0.035667\n",
            "Cost after epoch 800: 0.019037\n",
            "Cost after epoch 900: 0.010701\n",
            "Cost after epoch 1000: 0.007422\n",
            "Cost after epoch 1100: 0.005850\n",
            "Cost after epoch 1200: 0.003877\n",
            "Cost after epoch 1300: 0.003361\n",
            "Cost after epoch 1400: 0.003019\n",
            "Parameters have been trained!\n",
            "Train Accuracy: 1.0\n",
            "Test Accuracy: 0.875\n"
          ],
          "name": "stdout"
        },
        {
          "output_type": "execute_result",
          "data": {
            "text/plain": [
              "{'W1': array([[ 0.01495723, -0.00272982, -0.01154495, ..., -0.01639206,\n",
              "          0.01279509,  0.00873966],\n",
              "        [ 0.00167237,  0.00657317,  0.0025011 , ..., -0.00204726,\n",
              "         -0.00507197,  0.00880747],\n",
              "        [-0.0024233 ,  0.00773514, -0.00463037, ..., -0.02164192,\n",
              "          0.02010409,  0.00530338],\n",
              "        ...,\n",
              "        [ 0.0018509 , -0.00808147,  0.00144168, ...,  0.00459911,\n",
              "         -0.01353942, -0.01289197],\n",
              "        [ 0.00932185,  0.00730197, -0.02242354, ...,  0.01752262,\n",
              "          0.00194884,  0.00566231],\n",
              "        [ 0.00225539, -0.00213472,  0.00233923, ...,  0.00466313,\n",
              "          0.0011887 , -0.00818407]], dtype=float32),\n",
              " 'W2': array([[ 0.11824924,  0.21441238, -0.2491288 , -0.18864477,  0.31052566,\n",
              "          0.4207076 ,  0.36467886, -0.61522645, -0.28402534,  0.26683277,\n",
              "         -0.15217127,  0.3408755 , -0.36015505,  0.0382241 ,  0.2205745 ,\n",
              "         -0.1996706 , -0.40811816,  0.255308  , -0.33462927, -0.10321791,\n",
              "         -0.2939023 ,  0.1936718 ,  0.37261254,  0.34865725, -0.40215272],\n",
              "        [-0.25795314, -0.18819234, -0.03529218,  0.24579428, -0.03526923,\n",
              "          0.12949185, -0.22782177, -0.14658552,  0.1154775 ,  0.29818702,\n",
              "          0.32364446, -0.1497185 ,  0.13283211, -0.22410522,  0.36185133,\n",
              "         -0.08780831, -0.22306998, -0.32119828, -0.11509329,  0.1487567 ,\n",
              "          0.4024138 , -0.4240304 , -0.24087062, -0.22314139,  0.36288458],\n",
              "        [-0.17906545, -0.15299265, -0.02726173,  0.13308632, -0.13264786,\n",
              "         -0.49368668, -0.20512962,  0.0924084 , -0.10815165,  0.08049124,\n",
              "          0.24506448,  0.07694758, -0.03014623,  0.30164587, -0.03082621,\n",
              "          0.13215828,  0.02225578, -0.3494585 , -0.36451203,  0.20725504,\n",
              "          0.17201366,  0.27691165,  0.14931238,  0.35199085,  0.00588176],\n",
              "        [ 0.38283688, -0.00537932, -0.1751718 ,  0.79689074, -0.03830542,\n",
              "         -0.10640014, -0.20671801,  0.25225675, -0.05398634,  0.18695259,\n",
              "         -0.10379197, -0.07134464,  0.25294757, -0.3436001 ,  0.19679826,\n",
              "          0.32263365, -0.5157399 ,  0.29843587,  0.26733086, -0.02243347,\n",
              "          0.28588858, -0.50193137,  0.18620127, -0.34180787, -0.02493861],\n",
              "        [ 0.27679828, -0.29949084, -0.09129998, -0.0482327 , -0.29184654,\n",
              "         -0.29222256, -0.11956101,  0.29906172, -0.17411698,  0.21090956,\n",
              "          0.34950435, -0.16062465,  0.05682311, -0.14383511, -0.24219431,\n",
              "         -0.13773851, -0.53262925,  0.05993476, -0.00494636,  0.49881372,\n",
              "          0.02710519,  0.21730046, -0.00776333,  0.32289606,  0.16085875],\n",
              "        [ 0.3519171 , -0.2038039 ,  0.16088796, -0.2709131 , -0.24582222,\n",
              "          0.14269078, -0.24097383, -0.28558135,  0.31810778, -0.15985808,\n",
              "         -0.13372675,  0.26038456, -0.11289102, -0.08324602,  0.09251776,\n",
              "          0.33758545,  0.3444271 , -0.28082263, -0.07137999, -0.32669595,\n",
              "         -0.17192034,  0.00902173, -0.3721807 ,  0.12309605, -0.23750798],\n",
              "        [-0.19099888, -0.06433147, -0.08466744, -0.6730955 ,  0.3470615 ,\n",
              "          0.19424841, -0.05654003,  0.46372715,  0.17283851, -0.09942686,\n",
              "          0.08084231,  0.25828278,  0.04644688,  0.04292353, -0.18457316,\n",
              "          0.26211312, -0.16186456,  0.3197852 ,  0.11075342, -0.44920212,\n",
              "          0.19344243,  0.05573903, -0.38673308, -0.14106506,  0.04619935],\n",
              "        [ 0.07271037, -0.24653263, -0.23470382,  0.4121745 ,  0.2573525 ,\n",
              "         -0.19925961,  0.10883112, -0.19898252,  0.19571525, -0.11582649,\n",
              "         -0.10374846,  0.13694315,  0.05775969, -0.22665922, -0.19882263,\n",
              "          0.01367388,  0.25320414,  0.38734105, -0.32683495, -0.16813537,\n",
              "         -0.3031596 , -0.14055027, -0.27260458, -0.10278904,  0.20377886],\n",
              "        [ 0.02557228,  0.2094901 , -0.31374338, -0.3683729 ,  0.21726911,\n",
              "         -0.14728709,  0.2350472 ,  0.06790283,  0.13879019,  0.39462352,\n",
              "          0.27116883,  0.2100464 ,  0.3476603 , -0.02643212,  0.18764776,\n",
              "          0.01090688, -0.17532852, -0.3825872 , -0.35124058, -0.33291999,\n",
              "          0.3650803 , -0.03358888,  0.05046633,  0.22460942,  0.36718053],\n",
              "        [-0.01219923, -0.24386705, -0.36545965,  0.28692654, -0.30087495,\n",
              "         -0.36250424,  0.03526206,  0.3546936 ,  0.15579075, -0.30344552,\n",
              "         -0.32070607,  0.19436409,  0.03593218,  0.13781326,  0.34373343,\n",
              "         -0.03509475,  0.14916745, -0.18488687,  0.23337124, -0.09687203,\n",
              "          0.14677323, -0.17906073,  0.11149031,  0.14490838,  0.3745073 ],\n",
              "        [ 0.12191737, -0.3427813 , -0.18562494, -0.11372784, -0.38618305,\n",
              "          0.07391819,  0.19009334, -0.09412843, -0.3771688 ,  0.33685982,\n",
              "          0.04856148,  0.3042785 ,  0.04961193,  0.22853845,  0.309869  ,\n",
              "         -0.27122512, -0.08554122, -0.19695793, -0.21519467, -0.32337278,\n",
              "         -0.17317817,  0.04023898, -0.28684935, -0.14415136,  0.07387912],\n",
              "        [-0.02537593,  0.08559299, -0.20485981,  0.5170646 ,  0.03945215,\n",
              "          0.42161685, -0.30335745,  0.18553011,  0.117867  ,  0.190876  ,\n",
              "          0.17946108, -0.2498932 ,  0.28520557,  0.13422595, -0.37888804,\n",
              "         -0.32987872,  0.77375233, -0.31695312,  0.21784113,  0.14726523,\n",
              "          0.2770127 , -0.6947852 ,  0.33932072,  0.15596282,  0.20089501]],\n",
              "       dtype=float32),\n",
              " 'W3': array([[ 0.8498508 , -0.539609  , -0.41400233,  0.1414485 ,  0.5144274 ,\n",
              "         -0.44086528, -1.8783994 ,  0.9657695 ,  0.44075835, -0.52597076,\n",
              "          0.24502528, -0.11645728],\n",
              "        [-1.4602033 , -0.49363214, -0.8985369 , -1.6907187 , -0.01175477,\n",
              "          0.08120698,  0.43200693, -1.0253111 , -0.1962537 ,  0.4852879 ,\n",
              "         -0.13919368,  0.53532064],\n",
              "        [-0.9662106 ,  0.23197353,  1.1982448 ,  1.2774369 ,  0.38375142,\n",
              "          0.46090162, -0.70307875, -0.50679123,  0.16779979,  0.56547624,\n",
              "          0.13602728,  0.33650282],\n",
              "        [ 0.8623966 , -0.30200413,  0.54051024, -0.21762463, -1.4196192 ,\n",
              "         -0.5662117 , -0.64129114, -0.21425274,  0.42426407, -0.2606663 ,\n",
              "          0.31107855,  0.5065087 ],\n",
              "        [ 0.00322453,  0.2608267 , -0.6012546 ,  0.86068726, -0.06094682,\n",
              "         -0.17591664,  0.65207636, -0.09861721, -0.30681893,  0.09112854,\n",
              "          0.13157761, -0.20733404],\n",
              "        [ 0.5541031 , -0.20125496, -0.29114604, -1.0193045 ,  0.12347142,\n",
              "          0.19946599,  1.044844  , -1.7514833 , -0.14612727,  0.2998707 ,\n",
              "         -0.18256244, -0.7860619 ]], dtype=float32),\n",
              " 'b1': array([[-0.00059682],\n",
              "        [-0.00060055],\n",
              "        [ 0.        ],\n",
              "        [ 0.00806252],\n",
              "        [-0.00060053],\n",
              "        [ 0.00838475],\n",
              "        [-0.00059124],\n",
              "        [ 0.00916605],\n",
              "        [-0.0006056 ],\n",
              "        [-0.00036947],\n",
              "        [-0.00060054],\n",
              "        [-0.00060054],\n",
              "        [-0.00060053],\n",
              "        [-0.00034648],\n",
              "        [ 0.        ],\n",
              "        [-0.00026891],\n",
              "        [-0.01547208],\n",
              "        [ 0.03007418],\n",
              "        [-0.00042417],\n",
              "        [-0.01264307],\n",
              "        [-0.00037337],\n",
              "        [-0.01027653],\n",
              "        [ 0.        ],\n",
              "        [-0.0004438 ],\n",
              "        [ 0.        ]], dtype=float32),\n",
              " 'b2': array([[ 2.2218453e-02],\n",
              "        [-2.0475438e-02],\n",
              "        [ 3.7496321e-02],\n",
              "        [ 1.7489804e-02],\n",
              "        [ 4.9618194e-03],\n",
              "        [ 0.0000000e+00],\n",
              "        [ 1.0557974e-02],\n",
              "        [ 4.6842594e-02],\n",
              "        [-6.0054875e-04],\n",
              "        [ 3.8415721e-05],\n",
              "        [ 0.0000000e+00],\n",
              "        [ 6.6704508e-03]], dtype=float32),\n",
              " 'b3': array([[ 0.25433666],\n",
              "        [ 0.1959863 ],\n",
              "        [-0.1367654 ],\n",
              "        [-0.08074463],\n",
              "        [-0.07489736],\n",
              "        [-0.08725523]], dtype=float32)}"
            ]
          },
          "metadata": {
            "tags": []
          },
          "execution_count": 25
        },
        {
          "output_type": "display_data",
          "data": {
            "image/png": "[encoded data removed]",
            "text/plain": [
              "<Figure size 432x288 with 1 Axes>"
            ]
          },
          "metadata": {
            "tags": [],
            "needs_background": "light"
          }
        }
      ]
    },
    {
      "cell_type": "code",
      "metadata": {
        "id": "uGsqf58j5h7g"
      },
      "source": [
        "def predict(X, parameters):\n",
        "    \n",
        "    W1 = tf.convert_to_tensor(parameters[\"W1\"])\n",
        "    b1 = tf.convert_to_tensor(parameters[\"b1\"])\n",
        "    W2 = tf.convert_to_tensor(parameters[\"W2\"])\n",
        "    b2 = tf.convert_to_tensor(parameters[\"b2\"])\n",
        "    W3 = tf.convert_to_tensor(parameters[\"W3\"])\n",
        "    b3 = tf.convert_to_tensor(parameters[\"b3\"])\n",
        "    \n",
        "    params = {\"W1\": W1,\n",
        "              \"b1\": b1,\n",
        "              \"W2\": W2,\n",
        "              \"b2\": b2,\n",
        "              \"W3\": W3,\n",
        "              \"b3\": b3}\n",
        "    tf.compat.v1.disable_eager_execution()\n",
        "    x = tf.compat.v1.placeholder(tf.float32, [12288, None])\n",
        "    \n",
        "    z3 = forward_propogation(x, params)\n",
        "    p = tf.argmax(z3)\n",
        "    \n",
        "    with tf.compat.v1.Session() as sess:\n",
        "        prediction = sess.run(p, feed_dict = {x: X})\n",
        "        # prediction = sess.run(p, X)\n",
        "    return prediction"
      ],
      "execution_count": null,
      "outputs": []
    },
    {
      "cell_type": "code",
      "metadata": {
        "id": "dCEWP1DdAMl_"
      },
      "source": [
        ""
      ],
      "execution_count": null,
      "outputs": []
    },
    {
      "cell_type": "code",
      "metadata": {
        "id": "rZ9hj4tp7gNi",
        "outputId": "bd1f4526-6774-4e48-98da-06a0a7fb17a2",
        "colab": {
          "base_uri": "https://localhost:8080/",
          "height": 286
        }
      },
      "source": [
        "from PIL import Image\n",
        "img = Image.open(\"/content/hand2.png\")\n",
        "# img1 = plt.imshow(img)\n",
        "arr = np.asarray(img)\n",
        "\n",
        "my_img = Image.fromarray(arr).resize((64,64))\n",
        "\n",
        "k = np.array(my_img).reshape((1,64*64*3)).T\n",
        "k=k/255\n",
        "# print(k)\n",
        "z3 = forward_propogation(k,parameters)\n",
        "correct_prediction = tf.equal(tf.argmax(Z3), tf.argmax(y))\n",
        "print(correct_prediction)\n",
        "\n",
        "\n",
        "# my_image_prediction = predict(k, parameters)\n",
        "\n",
        "# plt.imshow(image)\n",
        "# print(\"Your algorithm predicts: y = \" + str(np.squeeze(my_image_prediction)))\n",
        "\n",
        "    \n",
        "\n",
        "             \n",
        "# #     tf.compat.v1.disable_eager_execution()\n",
        "# x = tf.compat.v1.placeholder(tf.float32, [12288, None])\n",
        "# z3 = forward_propogation(x, params)\n",
        "# p = tf.argmax(z3)\n",
        "# print(p.shape)    \n",
        "#     # with tf.Session() as sess:\n",
        "#     #     prediction = sess.run(p, feed_dict = {x: X})\n",
        "        \n",
        "#     # return prediction\n",
        "    \n",
        "    \n",
        "\n",
        "# Z1 = tf.add(tf.matmul(W1,X),b1)\n",
        "# A1 = tf.nn.relu(Z1)\n",
        "# Z2 = tf.add(tf.matmul(W2,A1),b2)\n",
        "# A2 = tf.nn.relu(Z2)\n",
        "# z3 = tf.add(tf.matmul(W3,A2),b3)\n",
        "\n",
        "# print(z3.shape)\n",
        "# print(k.shape)\n",
        "# p = tf.argmax(z3)\n",
        "# print(p.shape)\n",
        "# with tf.compat.v1.Session() as sess:\n",
        "#        sess.run(p, feed_dict={x:k})\n",
        "\n",
        "\n",
        "# # correct_prediction = tf.equal(tf.argmax(Z3), tf.argmax(y))\n",
        "\n",
        "\n",
        "\n",
        "\n",
        "\n",
        "\n",
        "# # k = k.reshape((1,num_px*num_px*3)).T\n",
        " \n",
        "# # print(prediction(d[\"w\"], d[\"b\"],k))\n",
        "\n",
        "\n",
        "\n",
        "\n",
        "\n",
        "plt.imshow(img);\n"
      ],
      "execution_count": null,
      "outputs": [
        {
          "output_type": "stream",
          "text": [
            "Tensor(\"Equal_6:0\", shape=(None,), dtype=bool)\n"
          ],
          "name": "stdout"
        },
        {
          "output_type": "display_data",
          "data": {
            "image/png": "[encoded data removed]",
            "text/plain": [
              "<Figure size 432x288 with 1 Axes>"
            ]
          },
          "metadata": {
            "tags": [],
            "needs_background": "light"
          }
        }
      ]
    },
    {
      "cell_type": "code",
      "metadata": {
        "id": "bGN7HqGWTle-"
      },
      "source": [
        ""
      ],
      "execution_count": null,
      "outputs": []
    }
  ]
}